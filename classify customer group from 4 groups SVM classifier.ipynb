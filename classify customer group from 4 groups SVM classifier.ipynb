{
 "cells": [
  {
   "cell_type": "markdown",
   "id": "71828fa8",
   "metadata": {},
   "source": [
    "<h1>SVM classifier</h1>...but can be used for regression and clustering.\n",
    "Good for small datasets, not efficient computationaly."
   ]
  },
  {
   "cell_type": "code",
   "execution_count": 1,
   "id": "05d1a205",
   "metadata": {},
   "outputs": [],
   "source": [
    "import pandas as pd\n",
    "df=pd.read_csv(\"teleCust1000t.csv\")\n",
    "# df.head()"
   ]
  },
  {
   "cell_type": "code",
   "execution_count": 2,
   "id": "9d21c34b",
   "metadata": {},
   "outputs": [],
   "source": [
    "X=df[df.columns[:-1]].values\n",
    "Y=df[df.columns[-1]].values\n",
    "from sklearn.model_selection import train_test_split\n",
    "X_train,X_test,Y_train,Y_test=train_test_split(X,Y,test_size=0.2,random_state=4)"
   ]
  },
  {
   "cell_type": "code",
   "execution_count": 3,
   "id": "017a0d91",
   "metadata": {},
   "outputs": [],
   "source": [
    "from sklearn import svm\n",
    "\n",
    "# svm_clf=svm.SVC(kernel=\"rbf\") #0.365 accuracy_score  #0.625\n",
    "svm_clf=svm.SVC(kernel=\"linear\") #0.425 accuracy_score #0.625 #dtree 0.975\n",
    "# svm_clf=svm.SVC(kernel=\"poly\") #0.335 knn   #0.625 logisticRegression\n",
    "# svm_clf=svm.SVC(kernel=\"sigmoid\") #0.26 knn  #0.725 logisticRegression\n",
    "\n",
    "# kernel=\"linear\" working better than knn and decision tree ...//For categorical values\n",
    "#kernel=\"sigmoid\" working better than logisticRegression //Two target values..and numerical independent variable\n",
    "\n",
    "svm_clf.fit(X_train,Y_train)\n",
    "Yhat=svm_clf.predict(X_test)"
   ]
  },
  {
   "cell_type": "code",
   "execution_count": 4,
   "id": "8341cdba",
   "metadata": {},
   "outputs": [
    {
     "name": "stdout",
     "output_type": "stream",
     "text": [
      "Accuracy score of svm for classifying custcat is : 0.425\n"
     ]
    }
   ],
   "source": [
    "#here svm working less better than decision tree and knn\n",
    "from sklearn.metrics import accuracy_score\n",
    "accuracy_score_svm=accuracy_score(Y_test,Yhat)\n",
    "print(\"Accuracy score of svm for classifying custcat is :\", accuracy_score_svm)"
   ]
  },
  {
   "cell_type": "code",
   "execution_count": 5,
   "id": "34adc81f",
   "metadata": {},
   "outputs": [
    {
     "data": {
      "text/plain": [
       "Index(['region', 'tenure', 'age', 'marital', 'address', 'income', 'ed',\n",
       "       'employ', 'retire', 'gender', 'reside', 'custcat'],\n",
       "      dtype='object')"
      ]
     },
     "execution_count": 5,
     "metadata": {},
     "output_type": "execute_result"
    }
   ],
   "source": [
    "df.columns"
   ]
  },
  {
   "cell_type": "code",
   "execution_count": 6,
   "id": "e4b6d95f",
   "metadata": {},
   "outputs": [
    {
     "data": {
      "text/plain": [
       "Text(0.5, 15.0, 'Predicted Lables')"
      ]
     },
     "execution_count": 6,
     "metadata": {},
     "output_type": "execute_result"
    },
    {
     "data": {
      "image/png": "[encoded data removed]",
      "text/plain": [
       "<Figure size 432x288 with 2 Axes>"
      ]
     },
     "metadata": {
      "needs_background": "light"
     },
     "output_type": "display_data"
    }
   ],
   "source": [
    "#svm with linear kernel predicting better drug than decision tree\n",
    "from sklearn.metrics import confusion_matrix\n",
    "cm=confusion_matrix(Y_test,Yhat)\n",
    "cm\n",
    "\n",
    "import matplotlib.pyplot as plt\n",
    "import seaborn as sns\n",
    "sns.heatmap(cm,annot=True,fmt=\"0.3f\",linewidths=0.5,square=True)\n",
    "plt.ylabel(\"Actual Lables\")\n",
    "plt.xlabel(\"Predicted Lables\")"
   ]
  }
 ],
 "metadata": {
  "kernelspec": {
   "display_name": "Python 3 (ipykernel)",
   "language": "python",
   "name": "python3"
  },
  "language_info": {
   "codemirror_mode": {
    "name": "ipython",
    "version": 3
   },
   "file_extension": ".py",
   "mimetype": "text/x-python",
   "name": "python",
   "nbconvert_exporter": "python",
   "pygments_lexer": "ipython3",
   "version": "3.8.5"
  }
 },
 "nbformat": 4,
 "nbformat_minor": 5
}
