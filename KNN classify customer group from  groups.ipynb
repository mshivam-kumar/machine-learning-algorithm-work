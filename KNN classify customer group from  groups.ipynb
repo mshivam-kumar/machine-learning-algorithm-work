{
 "cells": [
  {
   "cell_type": "markdown",
   "id": "edda6279",
   "metadata": {},
   "source": [
    "# Classification KNN algorithm"
   ]
  },
  {
   "cell_type": "code",
   "execution_count": 1,
   "id": "5c7617fc",
   "metadata": {},
   "outputs": [
    {
     "data": {
      "text/html": [
       "<div>\n",
       "<style scoped>\n",
       "    .dataframe tbody tr th:only-of-type {\n",
       "        vertical-align: middle;\n",
       "    }\n",
       "\n",
       "    .dataframe tbody tr th {\n",
       "        vertical-align: top;\n",
       "    }\n",
       "\n",
       "    .dataframe thead th {\n",
       "        text-align: right;\n",
       "    }\n",
       "</style>\n",
       "<table border=\"1\" class=\"dataframe\">\n",
       "  <thead>\n",
       "    <tr style=\"text-align: right;\">\n",
       "      <th></th>\n",
       "      <th>region</th>\n",
       "      <th>tenure</th>\n",
       "      <th>age</th>\n",
       "      <th>marital</th>\n",
       "      <th>address</th>\n",
       "      <th>income</th>\n",
       "      <th>ed</th>\n",
       "      <th>employ</th>\n",
       "      <th>retire</th>\n",
       "      <th>gender</th>\n",
       "      <th>reside</th>\n",
       "      <th>custcat</th>\n",
       "    </tr>\n",
       "  </thead>\n",
       "  <tbody>\n",
       "    <tr>\n",
       "      <th>0</th>\n",
       "      <td>2</td>\n",
       "      <td>13</td>\n",
       "      <td>44</td>\n",
       "      <td>1</td>\n",
       "      <td>9</td>\n",
       "      <td>64.0</td>\n",
       "      <td>4</td>\n",
       "      <td>5</td>\n",
       "      <td>0.0</td>\n",
       "      <td>0</td>\n",
       "      <td>2</td>\n",
       "      <td>1</td>\n",
       "    </tr>\n",
       "    <tr>\n",
       "      <th>1</th>\n",
       "      <td>3</td>\n",
       "      <td>11</td>\n",
       "      <td>33</td>\n",
       "      <td>1</td>\n",
       "      <td>7</td>\n",
       "      <td>136.0</td>\n",
       "      <td>5</td>\n",
       "      <td>5</td>\n",
       "      <td>0.0</td>\n",
       "      <td>0</td>\n",
       "      <td>6</td>\n",
       "      <td>4</td>\n",
       "    </tr>\n",
       "    <tr>\n",
       "      <th>2</th>\n",
       "      <td>3</td>\n",
       "      <td>68</td>\n",
       "      <td>52</td>\n",
       "      <td>1</td>\n",
       "      <td>24</td>\n",
       "      <td>116.0</td>\n",
       "      <td>1</td>\n",
       "      <td>29</td>\n",
       "      <td>0.0</td>\n",
       "      <td>1</td>\n",
       "      <td>2</td>\n",
       "      <td>3</td>\n",
       "    </tr>\n",
       "    <tr>\n",
       "      <th>3</th>\n",
       "      <td>2</td>\n",
       "      <td>33</td>\n",
       "      <td>33</td>\n",
       "      <td>0</td>\n",
       "      <td>12</td>\n",
       "      <td>33.0</td>\n",
       "      <td>2</td>\n",
       "      <td>0</td>\n",
       "      <td>0.0</td>\n",
       "      <td>1</td>\n",
       "      <td>1</td>\n",
       "      <td>1</td>\n",
       "    </tr>\n",
       "    <tr>\n",
       "      <th>4</th>\n",
       "      <td>2</td>\n",
       "      <td>23</td>\n",
       "      <td>30</td>\n",
       "      <td>1</td>\n",
       "      <td>9</td>\n",
       "      <td>30.0</td>\n",
       "      <td>1</td>\n",
       "      <td>2</td>\n",
       "      <td>0.0</td>\n",
       "      <td>0</td>\n",
       "      <td>4</td>\n",
       "      <td>3</td>\n",
       "    </tr>\n",
       "  </tbody>\n",
       "</table>\n",
       "</div>"
      ],
      "text/plain": [
       "   region  tenure  age  marital  address  income  ed  employ  retire  gender  \\\n",
       "0       2      13   44        1        9    64.0   4       5     0.0       0   \n",
       "1       3      11   33        1        7   136.0   5       5     0.0       0   \n",
       "2       3      68   52        1       24   116.0   1      29     0.0       1   \n",
       "3       2      33   33        0       12    33.0   2       0     0.0       1   \n",
       "4       2      23   30        1        9    30.0   1       2     0.0       0   \n",
       "\n",
       "   reside  custcat  \n",
       "0       2        1  \n",
       "1       6        4  \n",
       "2       2        3  \n",
       "3       1        1  \n",
       "4       4        3  "
      ]
     },
     "execution_count": 1,
     "metadata": {},
     "output_type": "execute_result"
    }
   ],
   "source": [
    "import pandas as pd\n",
    "df=pd.read_csv(\"teleCust1000t.csv\")\n",
    "# df.columns\n",
    "# df.dtypes\n",
    "df.head()"
   ]
  },
  {
   "cell_type": "code",
   "execution_count": 2,
   "id": "8f622362",
   "metadata": {},
   "outputs": [
    {
     "data": {
      "text/plain": [
       "1"
      ]
     },
     "execution_count": 2,
     "metadata": {},
     "output_type": "execute_result"
    }
   ],
   "source": [
    "X=df[df.columns[:-1]]\n",
    "# Y=df[df.columns[-1]].values\n",
    "Y=df[[\"custcat\"]].values\n",
    "Y=Y.reshape(-1)#Changing 2D column to 1D\n",
    "# Y=Y.reshape(-1,1)\n",
    "X.dtypes\n",
    "Y.ndim\n",
    "# Y.value_counts()"
   ]
  },
  {
   "cell_type": "code",
   "execution_count": 3,
   "id": "6e92361c",
   "metadata": {},
   "outputs": [],
   "source": [
    "# train_test_split of teleCust1000t data for knn classification\n",
    "from sklearn.model_selection import train_test_split\n",
    "X_train,X_test,Y_train,Y_test=train_test_split(X,Y,test_size=0.2,random_state=4)"
   ]
  },
  {
   "cell_type": "code",
   "execution_count": 4,
   "id": "5fd59afb",
   "metadata": {},
   "outputs": [
    {
     "data": {
      "text/plain": [
       "array([3, 1, 3, 4, 4], dtype=int64)"
      ]
     },
     "execution_count": 4,
     "metadata": {},
     "output_type": "execute_result"
    }
   ],
   "source": [
    "from sklearn.neighbors import KNeighborsClassifier\n",
    "from sklearn.model_selection import train_test_split\n",
    "from sklearn import preprocessing\n",
    "X=preprocessing.StandardScaler().fit(X).transform(X.astype(float))\n",
    "#For predefined single value of k\n",
    "# k=17 #0.355 accuracy score\n",
    "k=4 #0.32 accuracy score\n",
    "neigh=KNeighborsClassifier(n_neighbors=k).fit(X_train,Y_train)\n",
    "Yhat=neigh.predict(X_test)\n",
    "Yhat[0:5]\n"
   ]
  },
  {
   "cell_type": "code",
   "execution_count": 5,
   "id": "38e61cc7",
   "metadata": {},
   "outputs": [
    {
     "name": "stdout",
     "output_type": "stream",
     "text": [
      "Accuracy score of knn algorithm :  0.26\n"
     ]
    }
   ],
   "source": [
    "# Checking accuracy of KNN algorithm\n",
    "from sklearn.metrics import accuracy_score\n",
    "print(\"Accuracy score of knn algorithm : \",accuracy_score(Y_test,Yhat))"
   ]
  },
  {
   "cell_type": "code",
   "execution_count": 6,
   "id": "380511dc",
   "metadata": {},
   "outputs": [
    {
     "data": {
      "text/plain": [
       "[<matplotlib.lines.Line2D at 0x1acbbe14370>,\n",
       " <matplotlib.lines.Line2D at 0x1acbbe14460>]"
      ]
     },
     "execution_count": 6,
     "metadata": {},
     "output_type": "execute_result"
    },
    {
     "data": {
      "image/png": "[encoded data removed]",
      "text/plain": [
       "<Figure size 432x288 with 1 Axes>"
      ]
     },
     "metadata": {
      "needs_background": "light"
     },
     "output_type": "display_data"
    }
   ],
   "source": [
    "# Visualizing accuracy KNN algorithm\n",
    "#Taking an idea from graph how the predictions are done\n",
    "#Large blue dot is for Y_test, and small orange dot for Yhat predicted value\n",
    "#If both dots completely overlapp, the the accuracy is near to 100%\n",
    "import matplotlib.pyplot as plt\n",
    "plt.plot(Y_test,'.',Yhat,'.')"
   ]
  },
  {
   "cell_type": "markdown",
   "id": "4a0cfb8a",
   "metadata": {},
   "source": [
    "### Choosing the best value of k for KNN algorithm"
   ]
  },
  {
   "cell_type": "code",
   "execution_count": 7,
   "id": "7e04a232",
   "metadata": {},
   "outputs": [
    {
     "name": "stdout",
     "output_type": "stream",
     "text": [
      "[0.275, 0.31, 0.275, 0.26, 0.3, 0.295, 0.35, 0.33, 0.32, 0.32, 0.345, 0.33, 0.32, 0.34, 0.355, 0.32, 0.335, 0.34, 0.355, 0.345, 0.325, 0.345, 0.345, 0.34, 0.335, 0.35, 0.345, 0.36, 0.35, 0.32, 0.325, 0.325, 0.325, 0.335, 0.355, 0.35, 0.335, 0.325, 0.375, 0.36, 0.36, 0.335, 0.335, 0.345, 0.375, 0.375, 0.37, 0.365, 0.36, 0.36, 0.37, 0.37, 0.375, 0.37, 0.38, 0.365, 0.375, 0.37, 0.37, 0.38, 0.365, 0.36, 0.38, 0.36, 0.36, 0.375, 0.375, 0.365, 0.365, 0.36, 0.37, 0.37, 0.375, 0.37, 0.37, 0.375, 0.39, 0.4, 0.38, 0.385, 0.375, 0.39, 0.375, 0.375, 0.38, 0.39, 0.385, 0.385, 0.375, 0.365, 0.37, 0.37, 0.37, 0.375, 0.385, 0.385, 0.385, 0.385, 0.375, 0.385]\n"
     ]
    },
    {
     "data": {
      "image/png": "[encoded data removed]",
      "text/plain": [
       "<Figure size 432x288 with 1 Axes>"
      ]
     },
     "metadata": {
      "needs_background": "light"
     },
     "output_type": "display_data"
    }
   ],
   "source": [
    "from sklearn.metrics import accuracy_score\n",
    "import matplotlib.pyplot as plt\n",
    "def knn_for_varius_values_of_k(ks):\n",
    "    accuracy_result_of_varius_values_of_k=[]\n",
    "    for i in range(1,ks+1):\n",
    "        neigh=KNeighborsClassifier(n_neighbors=i).fit(X_train,Y_train)\n",
    "        Yhat=neigh.predict(X_test)\n",
    "        accuracy_score_for_k=accuracy_score(Y_test,Yhat)\n",
    "        accuracy_result_of_varius_values_of_k.append(accuracy_score_for_k)\n",
    "    return accuracy_result_of_varius_values_of_k\n",
    "\n",
    "def visualize_accuracy_scores_of_various_values_of_k(ks,knn_accuracy_scores):\n",
    "    plt.plot(range(1,ks+1),knn_accuracy_scores)\n",
    "    \n",
    "ks=100#Limit of last value of k\n",
    "knn_accuracy_scores=[]\n",
    "knn_accuracy_scores=knn_for_varius_values_of_k(ks)\n",
    "print(knn_accuracy_scores)\n",
    "visualize_accuracy_scores_of_various_values_of_k(ks,knn_accuracy_scores)\n"
   ]
  },
  {
   "cell_type": "code",
   "execution_count": 8,
   "id": "9bc9b66d",
   "metadata": {},
   "outputs": [
    {
     "name": "stdout",
     "output_type": "stream",
     "text": [
      "Best value of k :  78\n",
      "Best value of accuracy :  0.4    0.4\n"
     ]
    }
   ],
   "source": [
    "# print(index(max(knn_accuracy_scores)))\n",
    "dir(list)\n",
    "k=knn_accuracy_scores.index(max(knn_accuracy_scores))+1\n",
    "print(\"Best value of k : \",k)\n",
    "print(\"Best value of accuracy : \",max(knn_accuracy_scores),\"  \",knn_accuracy_scores[k-1])#k=39, as result are \n",
    "#stored as k=1 on 0th index, so k=39 on 38th index\n",
    "\n"
   ]
  }
 ],
 "metadata": {
  "kernelspec": {
   "display_name": "Python 3 (ipykernel)",
   "language": "python",
   "name": "python3"
  },
  "language_info": {
   "codemirror_mode": {
    "name": "ipython",
    "version": 3
   },
   "file_extension": ".py",
   "mimetype": "text/x-python",
   "name": "python",
   "nbconvert_exporter": "python",
   "pygments_lexer": "ipython3",
   "version": "3.8.5"
  }
 },
 "nbformat": 4,
 "nbformat_minor": 5
}
